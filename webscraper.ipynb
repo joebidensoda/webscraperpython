{
 "cells": [
  {
   "cell_type": "code",
   "execution_count": 5,
   "id": "15e180fe-ace1-4135-8304-9dd943a4f7ec",
   "metadata": {},
   "outputs": [
    {
     "name": "stdout",
     "output_type": "stream",
     "text": [
      "Successfully fetched the webpage\n",
      "                                           Book Title    Price\n",
      "0                                A Light in the Attic  Â£51.77\n",
      "1                                  Tipping the Velvet  Â£53.74\n",
      "2                                          Soumission  Â£50.10\n",
      "3                                       Sharp Objects  Â£47.82\n",
      "4               Sapiens: A Brief History of Humankind  Â£54.23\n",
      "5                                     The Requiem Red  Â£22.65\n",
      "6   The Dirty Little Secrets of Getting Your Dream...  Â£33.34\n",
      "7   The Coming Woman: A Novel Based on the Life of...  Â£17.93\n",
      "8   The Boys in the Boat: Nine Americans and Their...  Â£22.60\n",
      "9                                     The Black Maria  Â£52.15\n",
      "10     Starving Hearts (Triangular Trade Trilogy, #1)  Â£13.99\n",
      "11                              Shakespeare's Sonnets  Â£20.66\n",
      "12                                        Set Me Free  Â£17.46\n",
      "13  Scott Pilgrim's Precious Little Life (Scott Pi...  Â£52.29\n",
      "14                          Rip it Up and Start Again  Â£35.02\n",
      "15  Our Band Could Be Your Life: Scenes from the A...  Â£57.25\n",
      "16                                               Olio  Â£23.88\n",
      "17  Mesaerion: The Best Science Fiction Stories 18...  Â£37.59\n",
      "18                       Libertarianism for Beginners  Â£51.33\n",
      "19                            It's Only the Himalayas  Â£45.17\n"
     ]
    }
   ],
   "source": [
    "import requests\n",
    "from bs4 import BeautifulSoup\n",
    "import pandas as pd\n",
    "\n",
    "# URL of the website you want to scrape\n",
    "url = \"http://books.toscrape.com/\"\n",
    "\n",
    "# Step 1: Make the request\n",
    "response = requests.get(url)\n",
    "\n",
    "# Check if the request was successful\n",
    "if response.status_code == 200:\n",
    "    print(\"Successfully fetched the webpage\")\n",
    "else:\n",
    "    print(\"Failed to fetch the webpage\")\n",
    "\n",
    "# Step 2: Parse the HTML content\n",
    "soup = BeautifulSoup(response.text, 'lxml')\n",
    "\n",
    "# Step 3: Find the relevant data (book titles and prices)\n",
    "books = soup.find_all('article', class_='product_pod')\n",
    "\n",
    "# Create lists to store book titles and prices\n",
    "book_titles = []\n",
    "book_prices = []\n",
    "\n",
    "for book in books:\n",
    "    # Extract book title\n",
    "    title = book.h3.a['title']\n",
    "    # Extract book price\n",
    "    price = book.find('p', class_='price_color').text\n",
    "\n",
    "    # Append to lists\n",
    "    book_titles.append(title)\n",
    "    book_prices.append(price)\n",
    "\n",
    "# Step 4: Save the data to a CSV file using pandas\n",
    "df = pd.DataFrame({\n",
    "    \"Book Title\": book_titles,\n",
    "    \"Price\": book_prices\n",
    "})\n",
    "\n",
    "# Save the DataFrame to a CSV file\n",
    "df.to_csv(\"books_to_scrape.csv\", index=False)\n",
    "\n",
    "# Print the DataFrame to confirm the results\n",
    "print(df)"
   ]
  },
  {
   "cell_type": "code",
   "execution_count": null,
   "id": "43c92016-9057-45f4-8dcd-da450c021323",
   "metadata": {},
   "outputs": [],
   "source": []
  }
 ],
 "metadata": {
  "kernelspec": {
   "display_name": "Python 3 (ipykernel)",
   "language": "python",
   "name": "python3"
  },
  "language_info": {
   "codemirror_mode": {
    "name": "ipython",
    "version": 3
   },
   "file_extension": ".py",
   "mimetype": "text/x-python",
   "name": "python",
   "nbconvert_exporter": "python",
   "pygments_lexer": "ipython3",
   "version": "3.12.4"
  }
 },
 "nbformat": 4,
 "nbformat_minor": 5
}
